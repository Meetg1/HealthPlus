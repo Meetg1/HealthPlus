{
  "cells": [
    {
      "cell_type": "code",
      "execution_count": 101,
      "metadata": {
        "_cell_guid": "b1076dfc-b9ad-4769-8c92-a6c4dae69d19",
        "_uuid": "8f2839f25d086af736a60e9eeb907d3b93b6e0e5",
        "execution": {
          "iopub.execute_input": "2021-10-17T10:20:47.785815Z",
          "iopub.status.busy": "2021-10-17T10:20:47.784591Z",
          "iopub.status.idle": "2021-10-17T10:20:47.804919Z",
          "shell.execute_reply": "2021-10-17T10:20:47.805873Z",
          "shell.execute_reply.started": "2021-10-17T10:19:29.076009Z"
        },
        "id": "58a8e219",
        "papermill": {
          "duration": 0.046651,
          "end_time": "2021-10-17T10:20:47.806354",
          "exception": false,
          "start_time": "2021-10-17T10:20:47.759703",
          "status": "completed"
        },
        "tags": []
      },
      "outputs": [],
      "source": [
        "# Importing libraries\n",
        "import numpy as np\n",
        "import pandas as pd\n",
        "from scipy.stats import mode\n",
        "import matplotlib.pyplot as plt\n",
        "import seaborn as sns\n",
        "from sklearn.preprocessing import LabelEncoder\n",
        "from sklearn.model_selection import train_test_split, cross_val_score\n",
        "from sklearn.svm import SVC\n",
        "from sklearn.naive_bayes import GaussianNB\n",
        "from sklearn.ensemble import RandomForestClassifier\n",
        "from sklearn.metrics import accuracy_score, confusion_matrix\n",
        "\n",
        "%matplotlib inline\n"
      ]
    },
    {
      "cell_type": "code",
      "execution_count": 102,
      "metadata": {
        "execution": {
          "iopub.execute_input": "2021-10-17T10:20:47.848857Z",
          "iopub.status.busy": "2021-10-17T10:20:47.848172Z",
          "iopub.status.idle": "2021-10-17T10:20:48.888591Z",
          "shell.execute_reply": "2021-10-17T10:20:48.887940Z",
          "shell.execute_reply.started": "2021-10-17T10:19:29.101761Z"
        },
        "id": "669309e5",
        "papermill": {
          "duration": 1.06357,
          "end_time": "2021-10-17T10:20:48.888735",
          "exception": false,
          "start_time": "2021-10-17T10:20:47.825165",
          "status": "completed"
        },
        "tags": []
      },
      "outputs": [],
      "source": [
        "# from sklearn.model_selection import train_test_split, cross_val_score\n",
        "# from sklearn.ensemble import RandomForestClassifier\n",
        "# from sklearn.metrics import accuracy_score\n",
        "\n",
        "# import warnings\n",
        "# warnings.simplefilter(\"ignore\")"
      ]
    },
    {
      "cell_type": "code",
      "execution_count": 103,
      "metadata": {
        "execution": {
          "iopub.execute_input": "2021-10-17T10:20:48.929904Z",
          "iopub.status.busy": "2021-10-17T10:20:48.929019Z",
          "iopub.status.idle": "2021-10-17T10:20:48.965829Z",
          "shell.execute_reply": "2021-10-17T10:20:48.964983Z",
          "shell.execute_reply.started": "2021-10-17T10:19:29.496811Z"
        },
        "id": "f9fc673e",
        "papermill": {
          "duration": 0.058516,
          "end_time": "2021-10-17T10:20:48.966020",
          "exception": false,
          "start_time": "2021-10-17T10:20:48.907504",
          "status": "completed"
        },
        "tags": []
      },
      "outputs": [],
      "source": [
        "DATA_PATH = \"dataset.csv\"\n",
        "df = pd.read_csv(DATA_PATH)"
      ]
    },
    {
      "cell_type": "code",
      "execution_count": 104,
      "metadata": {
        "execution": {
          "iopub.execute_input": "2021-10-17T10:20:49.012154Z",
          "iopub.status.busy": "2021-10-17T10:20:49.011495Z",
          "iopub.status.idle": "2021-10-17T10:20:49.136583Z",
          "shell.execute_reply": "2021-10-17T10:20:49.137074Z",
          "shell.execute_reply.started": "2021-10-17T10:19:29.525486Z"
        },
        "id": "5b4d4d35",
        "outputId": "c8a9a0fd-fd0f-435a-a38f-1160aafdc075",
        "papermill": {
          "duration": 0.152528,
          "end_time": "2021-10-17T10:20:49.137248",
          "exception": false,
          "start_time": "2021-10-17T10:20:48.984720",
          "status": "completed"
        },
        "tags": []
      },
      "outputs": [
        {
          "data": {
            "text/html": [
              "<div>\n",
              "<style scoped>\n",
              "    .dataframe tbody tr th:only-of-type {\n",
              "        vertical-align: middle;\n",
              "    }\n",
              "\n",
              "    .dataframe tbody tr th {\n",
              "        vertical-align: top;\n",
              "    }\n",
              "\n",
              "    .dataframe thead th {\n",
              "        text-align: right;\n",
              "    }\n",
              "</style>\n",
              "<table border=\"1\" class=\"dataframe\">\n",
              "  <thead>\n",
              "    <tr style=\"text-align: right;\">\n",
              "      <th></th>\n",
              "      <th>Disease</th>\n",
              "      <th>Symptom_1</th>\n",
              "      <th>Symptom_2</th>\n",
              "      <th>Symptom_3</th>\n",
              "      <th>Symptom_4</th>\n",
              "      <th>Symptom_5</th>\n",
              "      <th>Symptom_6</th>\n",
              "      <th>Symptom_7</th>\n",
              "      <th>Symptom_8</th>\n",
              "      <th>Symptom_9</th>\n",
              "      <th>Symptom_10</th>\n",
              "      <th>Symptom_11</th>\n",
              "      <th>Symptom_12</th>\n",
              "      <th>Symptom_13</th>\n",
              "      <th>Symptom_14</th>\n",
              "      <th>Symptom_15</th>\n",
              "      <th>Symptom_16</th>\n",
              "      <th>Symptom_17</th>\n",
              "    </tr>\n",
              "  </thead>\n",
              "  <tbody>\n",
              "    <tr>\n",
              "      <th>0</th>\n",
              "      <td>Fungal infection</td>\n",
              "      <td>itching</td>\n",
              "      <td>skin_rash</td>\n",
              "      <td>nodal_skin_eruptions</td>\n",
              "      <td>dischromic_patches</td>\n",
              "      <td>NaN</td>\n",
              "      <td>NaN</td>\n",
              "      <td>NaN</td>\n",
              "      <td>NaN</td>\n",
              "      <td>NaN</td>\n",
              "      <td>NaN</td>\n",
              "      <td>NaN</td>\n",
              "      <td>NaN</td>\n",
              "      <td>NaN</td>\n",
              "      <td>NaN</td>\n",
              "      <td>NaN</td>\n",
              "      <td>NaN</td>\n",
              "      <td>NaN</td>\n",
              "    </tr>\n",
              "    <tr>\n",
              "      <th>1</th>\n",
              "      <td>Fungal infection</td>\n",
              "      <td>skin_rash</td>\n",
              "      <td>nodal_skin_eruptions</td>\n",
              "      <td>dischromic_patches</td>\n",
              "      <td>NaN</td>\n",
              "      <td>NaN</td>\n",
              "      <td>NaN</td>\n",
              "      <td>NaN</td>\n",
              "      <td>NaN</td>\n",
              "      <td>NaN</td>\n",
              "      <td>NaN</td>\n",
              "      <td>NaN</td>\n",
              "      <td>NaN</td>\n",
              "      <td>NaN</td>\n",
              "      <td>NaN</td>\n",
              "      <td>NaN</td>\n",
              "      <td>NaN</td>\n",
              "      <td>NaN</td>\n",
              "    </tr>\n",
              "    <tr>\n",
              "      <th>2</th>\n",
              "      <td>Fungal infection</td>\n",
              "      <td>itching</td>\n",
              "      <td>nodal_skin_eruptions</td>\n",
              "      <td>dischromic_patches</td>\n",
              "      <td>NaN</td>\n",
              "      <td>NaN</td>\n",
              "      <td>NaN</td>\n",
              "      <td>NaN</td>\n",
              "      <td>NaN</td>\n",
              "      <td>NaN</td>\n",
              "      <td>NaN</td>\n",
              "      <td>NaN</td>\n",
              "      <td>NaN</td>\n",
              "      <td>NaN</td>\n",
              "      <td>NaN</td>\n",
              "      <td>NaN</td>\n",
              "      <td>NaN</td>\n",
              "      <td>NaN</td>\n",
              "    </tr>\n",
              "    <tr>\n",
              "      <th>3</th>\n",
              "      <td>Fungal infection</td>\n",
              "      <td>itching</td>\n",
              "      <td>skin_rash</td>\n",
              "      <td>dischromic_patches</td>\n",
              "      <td>NaN</td>\n",
              "      <td>NaN</td>\n",
              "      <td>NaN</td>\n",
              "      <td>NaN</td>\n",
              "      <td>NaN</td>\n",
              "      <td>NaN</td>\n",
              "      <td>NaN</td>\n",
              "      <td>NaN</td>\n",
              "      <td>NaN</td>\n",
              "      <td>NaN</td>\n",
              "      <td>NaN</td>\n",
              "      <td>NaN</td>\n",
              "      <td>NaN</td>\n",
              "      <td>NaN</td>\n",
              "    </tr>\n",
              "    <tr>\n",
              "      <th>4</th>\n",
              "      <td>Fungal infection</td>\n",
              "      <td>itching</td>\n",
              "      <td>skin_rash</td>\n",
              "      <td>nodal_skin_eruptions</td>\n",
              "      <td>NaN</td>\n",
              "      <td>NaN</td>\n",
              "      <td>NaN</td>\n",
              "      <td>NaN</td>\n",
              "      <td>NaN</td>\n",
              "      <td>NaN</td>\n",
              "      <td>NaN</td>\n",
              "      <td>NaN</td>\n",
              "      <td>NaN</td>\n",
              "      <td>NaN</td>\n",
              "      <td>NaN</td>\n",
              "      <td>NaN</td>\n",
              "      <td>NaN</td>\n",
              "      <td>NaN</td>\n",
              "    </tr>\n",
              "  </tbody>\n",
              "</table>\n",
              "</div>"
            ],
            "text/plain": [
              "            Disease   Symptom_1              Symptom_2              Symptom_3  \\\n",
              "0  Fungal infection     itching              skin_rash   nodal_skin_eruptions   \n",
              "1  Fungal infection   skin_rash   nodal_skin_eruptions     dischromic_patches   \n",
              "2  Fungal infection     itching   nodal_skin_eruptions     dischromic_patches   \n",
              "3  Fungal infection     itching              skin_rash     dischromic_patches   \n",
              "4  Fungal infection     itching              skin_rash   nodal_skin_eruptions   \n",
              "\n",
              "             Symptom_4 Symptom_5 Symptom_6 Symptom_7 Symptom_8 Symptom_9  \\\n",
              "0   dischromic_patches       NaN       NaN       NaN       NaN       NaN   \n",
              "1                  NaN       NaN       NaN       NaN       NaN       NaN   \n",
              "2                  NaN       NaN       NaN       NaN       NaN       NaN   \n",
              "3                  NaN       NaN       NaN       NaN       NaN       NaN   \n",
              "4                  NaN       NaN       NaN       NaN       NaN       NaN   \n",
              "\n",
              "  Symptom_10 Symptom_11 Symptom_12 Symptom_13 Symptom_14 Symptom_15  \\\n",
              "0        NaN        NaN        NaN        NaN        NaN        NaN   \n",
              "1        NaN        NaN        NaN        NaN        NaN        NaN   \n",
              "2        NaN        NaN        NaN        NaN        NaN        NaN   \n",
              "3        NaN        NaN        NaN        NaN        NaN        NaN   \n",
              "4        NaN        NaN        NaN        NaN        NaN        NaN   \n",
              "\n",
              "  Symptom_16 Symptom_17  \n",
              "0        NaN        NaN  \n",
              "1        NaN        NaN  \n",
              "2        NaN        NaN  \n",
              "3        NaN        NaN  \n",
              "4        NaN        NaN  "
            ]
          },
          "execution_count": 104,
          "metadata": {},
          "output_type": "execute_result"
        }
      ],
      "source": [
        "df.head()"
      ]
    },
    {
      "cell_type": "code",
      "execution_count": 105,
      "metadata": {
        "execution": {
          "iopub.execute_input": "2021-10-17T10:20:49.257271Z",
          "iopub.status.busy": "2021-10-17T10:20:49.256554Z",
          "iopub.status.idle": "2021-10-17T10:20:49.258577Z",
          "shell.execute_reply": "2021-10-17T10:20:49.259014Z",
          "shell.execute_reply.started": "2021-10-17T10:19:29.557330Z"
        },
        "id": "02f98ae7",
        "papermill": {
          "duration": 0.028528,
          "end_time": "2021-10-17T10:20:49.259194",
          "exception": false,
          "start_time": "2021-10-17T10:20:49.230666",
          "status": "completed"
        },
        "tags": []
      },
      "outputs": [],
      "source": [
        "df[\"Symptoms\"] = 0"
      ]
    },
    {
      "cell_type": "code",
      "execution_count": 106,
      "metadata": {
        "execution": {
          "iopub.execute_input": "2021-10-17T10:20:49.335003Z",
          "iopub.status.busy": "2021-10-17T10:20:49.329722Z",
          "iopub.status.idle": "2021-10-17T10:20:49.772741Z",
          "shell.execute_reply": "2021-10-17T10:20:49.772132Z",
          "shell.execute_reply.started": "2021-10-17T10:19:29.565258Z"
        },
        "id": "1162482f",
        "outputId": "016e0032-8143-4117-e3fc-b60dfe377a07",
        "papermill": {
          "duration": 0.49492,
          "end_time": "2021-10-17T10:20:49.772882",
          "exception": false,
          "start_time": "2021-10-17T10:20:49.277962",
          "status": "completed"
        },
        "tags": []
      },
      "outputs": [],
      "source": [
        "records = df.shape[0]\n",
        "for i in range(records):\n",
        "    values = df.iloc[i].values\n",
        "    values = values.tolist()\n",
        "    if 0 in values:\n",
        "        df[\"Symptoms\"][i] = values[1:values.index(0)]\n",
        "    else:\n",
        "        df[\"Symptoms\"][i] = values[1:]"
      ]
    },
    {
      "cell_type": "code",
      "execution_count": 107,
      "metadata": {
        "execution": {
          "iopub.execute_input": "2021-10-17T10:20:49.833896Z",
          "iopub.status.busy": "2021-10-17T10:20:49.833032Z",
          "iopub.status.idle": "2021-10-17T10:20:49.836485Z",
          "shell.execute_reply": "2021-10-17T10:20:49.836973Z",
          "shell.execute_reply.started": "2021-10-17T10:19:30.173696Z"
        },
        "id": "df2e2b18",
        "outputId": "a3ffde4f-f79a-4dc6-fd2c-2a2e5c82bb77",
        "papermill": {
          "duration": 0.04518,
          "end_time": "2021-10-17T10:20:49.837139",
          "exception": false,
          "start_time": "2021-10-17T10:20:49.791959",
          "status": "completed"
        },
        "tags": []
      },
      "outputs": [
        {
          "data": {
            "text/html": [
              "<div>\n",
              "<style scoped>\n",
              "    .dataframe tbody tr th:only-of-type {\n",
              "        vertical-align: middle;\n",
              "    }\n",
              "\n",
              "    .dataframe tbody tr th {\n",
              "        vertical-align: top;\n",
              "    }\n",
              "\n",
              "    .dataframe thead th {\n",
              "        text-align: right;\n",
              "    }\n",
              "</style>\n",
              "<table border=\"1\" class=\"dataframe\">\n",
              "  <thead>\n",
              "    <tr style=\"text-align: right;\">\n",
              "      <th></th>\n",
              "      <th>Disease</th>\n",
              "      <th>Symptom_1</th>\n",
              "      <th>Symptom_2</th>\n",
              "      <th>Symptom_3</th>\n",
              "      <th>Symptom_4</th>\n",
              "      <th>Symptom_5</th>\n",
              "      <th>Symptom_6</th>\n",
              "      <th>Symptom_7</th>\n",
              "      <th>Symptom_8</th>\n",
              "      <th>Symptom_9</th>\n",
              "      <th>Symptom_10</th>\n",
              "      <th>Symptom_11</th>\n",
              "      <th>Symptom_12</th>\n",
              "      <th>Symptom_13</th>\n",
              "      <th>Symptom_14</th>\n",
              "      <th>Symptom_15</th>\n",
              "      <th>Symptom_16</th>\n",
              "      <th>Symptom_17</th>\n",
              "      <th>Symptoms</th>\n",
              "    </tr>\n",
              "  </thead>\n",
              "  <tbody>\n",
              "    <tr>\n",
              "      <th>0</th>\n",
              "      <td>Fungal infection</td>\n",
              "      <td>itching</td>\n",
              "      <td>skin_rash</td>\n",
              "      <td>nodal_skin_eruptions</td>\n",
              "      <td>dischromic_patches</td>\n",
              "      <td>NaN</td>\n",
              "      <td>NaN</td>\n",
              "      <td>NaN</td>\n",
              "      <td>NaN</td>\n",
              "      <td>NaN</td>\n",
              "      <td>NaN</td>\n",
              "      <td>NaN</td>\n",
              "      <td>NaN</td>\n",
              "      <td>NaN</td>\n",
              "      <td>NaN</td>\n",
              "      <td>NaN</td>\n",
              "      <td>NaN</td>\n",
              "      <td>NaN</td>\n",
              "      <td>[itching,  skin_rash,  nodal_skin_eruptions,  ...</td>\n",
              "    </tr>\n",
              "    <tr>\n",
              "      <th>1</th>\n",
              "      <td>Fungal infection</td>\n",
              "      <td>skin_rash</td>\n",
              "      <td>nodal_skin_eruptions</td>\n",
              "      <td>dischromic_patches</td>\n",
              "      <td>NaN</td>\n",
              "      <td>NaN</td>\n",
              "      <td>NaN</td>\n",
              "      <td>NaN</td>\n",
              "      <td>NaN</td>\n",
              "      <td>NaN</td>\n",
              "      <td>NaN</td>\n",
              "      <td>NaN</td>\n",
              "      <td>NaN</td>\n",
              "      <td>NaN</td>\n",
              "      <td>NaN</td>\n",
              "      <td>NaN</td>\n",
              "      <td>NaN</td>\n",
              "      <td>NaN</td>\n",
              "      <td>[ skin_rash,  nodal_skin_eruptions,  dischromi...</td>\n",
              "    </tr>\n",
              "    <tr>\n",
              "      <th>2</th>\n",
              "      <td>Fungal infection</td>\n",
              "      <td>itching</td>\n",
              "      <td>nodal_skin_eruptions</td>\n",
              "      <td>dischromic_patches</td>\n",
              "      <td>NaN</td>\n",
              "      <td>NaN</td>\n",
              "      <td>NaN</td>\n",
              "      <td>NaN</td>\n",
              "      <td>NaN</td>\n",
              "      <td>NaN</td>\n",
              "      <td>NaN</td>\n",
              "      <td>NaN</td>\n",
              "      <td>NaN</td>\n",
              "      <td>NaN</td>\n",
              "      <td>NaN</td>\n",
              "      <td>NaN</td>\n",
              "      <td>NaN</td>\n",
              "      <td>NaN</td>\n",
              "      <td>[itching,  nodal_skin_eruptions,  dischromic_p...</td>\n",
              "    </tr>\n",
              "    <tr>\n",
              "      <th>3</th>\n",
              "      <td>Fungal infection</td>\n",
              "      <td>itching</td>\n",
              "      <td>skin_rash</td>\n",
              "      <td>dischromic_patches</td>\n",
              "      <td>NaN</td>\n",
              "      <td>NaN</td>\n",
              "      <td>NaN</td>\n",
              "      <td>NaN</td>\n",
              "      <td>NaN</td>\n",
              "      <td>NaN</td>\n",
              "      <td>NaN</td>\n",
              "      <td>NaN</td>\n",
              "      <td>NaN</td>\n",
              "      <td>NaN</td>\n",
              "      <td>NaN</td>\n",
              "      <td>NaN</td>\n",
              "      <td>NaN</td>\n",
              "      <td>NaN</td>\n",
              "      <td>[itching,  skin_rash,  dischromic_patches, nan...</td>\n",
              "    </tr>\n",
              "    <tr>\n",
              "      <th>4</th>\n",
              "      <td>Fungal infection</td>\n",
              "      <td>itching</td>\n",
              "      <td>skin_rash</td>\n",
              "      <td>nodal_skin_eruptions</td>\n",
              "      <td>NaN</td>\n",
              "      <td>NaN</td>\n",
              "      <td>NaN</td>\n",
              "      <td>NaN</td>\n",
              "      <td>NaN</td>\n",
              "      <td>NaN</td>\n",
              "      <td>NaN</td>\n",
              "      <td>NaN</td>\n",
              "      <td>NaN</td>\n",
              "      <td>NaN</td>\n",
              "      <td>NaN</td>\n",
              "      <td>NaN</td>\n",
              "      <td>NaN</td>\n",
              "      <td>NaN</td>\n",
              "      <td>[itching,  skin_rash,  nodal_skin_eruptions, n...</td>\n",
              "    </tr>\n",
              "  </tbody>\n",
              "</table>\n",
              "</div>"
            ],
            "text/plain": [
              "            Disease   Symptom_1              Symptom_2              Symptom_3  \\\n",
              "0  Fungal infection     itching              skin_rash   nodal_skin_eruptions   \n",
              "1  Fungal infection   skin_rash   nodal_skin_eruptions     dischromic_patches   \n",
              "2  Fungal infection     itching   nodal_skin_eruptions     dischromic_patches   \n",
              "3  Fungal infection     itching              skin_rash     dischromic_patches   \n",
              "4  Fungal infection     itching              skin_rash   nodal_skin_eruptions   \n",
              "\n",
              "             Symptom_4 Symptom_5 Symptom_6 Symptom_7 Symptom_8 Symptom_9  \\\n",
              "0   dischromic_patches       NaN       NaN       NaN       NaN       NaN   \n",
              "1                  NaN       NaN       NaN       NaN       NaN       NaN   \n",
              "2                  NaN       NaN       NaN       NaN       NaN       NaN   \n",
              "3                  NaN       NaN       NaN       NaN       NaN       NaN   \n",
              "4                  NaN       NaN       NaN       NaN       NaN       NaN   \n",
              "\n",
              "  Symptom_10 Symptom_11 Symptom_12 Symptom_13 Symptom_14 Symptom_15  \\\n",
              "0        NaN        NaN        NaN        NaN        NaN        NaN   \n",
              "1        NaN        NaN        NaN        NaN        NaN        NaN   \n",
              "2        NaN        NaN        NaN        NaN        NaN        NaN   \n",
              "3        NaN        NaN        NaN        NaN        NaN        NaN   \n",
              "4        NaN        NaN        NaN        NaN        NaN        NaN   \n",
              "\n",
              "  Symptom_16 Symptom_17                                           Symptoms  \n",
              "0        NaN        NaN  [itching,  skin_rash,  nodal_skin_eruptions,  ...  \n",
              "1        NaN        NaN  [ skin_rash,  nodal_skin_eruptions,  dischromi...  \n",
              "2        NaN        NaN  [itching,  nodal_skin_eruptions,  dischromic_p...  \n",
              "3        NaN        NaN  [itching,  skin_rash,  dischromic_patches, nan...  \n",
              "4        NaN        NaN  [itching,  skin_rash,  nodal_skin_eruptions, n...  "
            ]
          },
          "execution_count": 107,
          "metadata": {},
          "output_type": "execute_result"
        }
      ],
      "source": [
        "df.head()"
      ]
    },
    {
      "cell_type": "code",
      "execution_count": 108,
      "metadata": {
        "execution": {
          "iopub.execute_input": "2021-10-17T10:20:49.960910Z",
          "iopub.status.busy": "2021-10-17T10:20:49.959796Z",
          "iopub.status.idle": "2021-10-17T10:20:49.968775Z",
          "shell.execute_reply": "2021-10-17T10:20:49.968155Z",
          "shell.execute_reply.started": "2021-10-17T10:19:30.201316Z"
        },
        "id": "a2a17ca9",
        "papermill": {
          "duration": 0.034291,
          "end_time": "2021-10-17T10:20:49.968918",
          "exception": false,
          "start_time": "2021-10-17T10:20:49.934627",
          "status": "completed"
        },
        "tags": []
      },
      "outputs": [],
      "source": [
        "column_values = df[['Symptom_1', 'Symptom_2', 'Symptom_3', 'Symptom_4',\n",
        "       'Symptom_5', 'Symptom_6', 'Symptom_7', 'Symptom_8', 'Symptom_9',\n",
        "       'Symptom_10', 'Symptom_11', 'Symptom_12', 'Symptom_13', 'Symptom_14',\n",
        "       'Symptom_15', 'Symptom_16', 'Symptom_17']].values.ravel()"
      ]
    },
    {
      "cell_type": "code",
      "execution_count": 109,
      "metadata": {
        "execution": {
          "iopub.execute_input": "2021-10-17T10:20:50.021572Z",
          "iopub.status.busy": "2021-10-17T10:20:50.010692Z",
          "iopub.status.idle": "2021-10-17T10:20:50.025263Z",
          "shell.execute_reply": "2021-10-17T10:20:50.024628Z",
          "shell.execute_reply.started": "2021-10-17T10:19:30.219067Z"
        },
        "id": "45ad2054",
        "papermill": {
          "duration": 0.036929,
          "end_time": "2021-10-17T10:20:50.025417",
          "exception": false,
          "start_time": "2021-10-17T10:20:49.988488",
          "status": "completed"
        },
        "tags": []
      },
      "outputs": [],
      "source": [
        "symps = pd.unique(column_values)\n",
        "symps = symps.tolist()\n",
        "symps = [i for i in symps if str(i) != \"nan\"]"
      ]
    },
    {
      "cell_type": "code",
      "execution_count": 110,
      "metadata": {
        "execution": {
          "iopub.execute_input": "2021-10-17T10:20:50.096119Z",
          "iopub.status.busy": "2021-10-17T10:20:50.071694Z",
          "iopub.status.idle": "2021-10-17T10:20:50.104481Z",
          "shell.execute_reply": "2021-10-17T10:20:50.103761Z",
          "shell.execute_reply.started": "2021-10-17T10:19:30.236399Z"
        },
        "id": "2d0eca01",
        "papermill": {
          "duration": 0.058969,
          "end_time": "2021-10-17T10:20:50.104628",
          "exception": false,
          "start_time": "2021-10-17T10:20:50.045659",
          "status": "completed"
        },
        "tags": []
      },
      "outputs": [],
      "source": [
        "symptoms = pd.DataFrame(columns = symps,index = df.index)"
      ]
    },
    {
      "cell_type": "code",
      "execution_count": 111,
      "metadata": {
        "execution": {
          "iopub.execute_input": "2021-10-17T10:20:50.171421Z",
          "iopub.status.busy": "2021-10-17T10:20:50.160260Z",
          "iopub.status.idle": "2021-10-17T10:20:50.177477Z",
          "shell.execute_reply": "2021-10-17T10:20:50.176940Z",
          "shell.execute_reply.started": "2021-10-17T10:19:30.281660Z"
        },
        "id": "a830b743",
        "outputId": "cae45c2c-6cb0-4cfc-f818-12345768a1b0",
        "papermill": {
          "duration": 0.053562,
          "end_time": "2021-10-17T10:20:50.177623",
          "exception": false,
          "start_time": "2021-10-17T10:20:50.124061",
          "status": "completed"
        },
        "tags": []
      },
      "outputs": [
        {
          "data": {
            "text/html": [
              "<div>\n",
              "<style scoped>\n",
              "    .dataframe tbody tr th:only-of-type {\n",
              "        vertical-align: middle;\n",
              "    }\n",
              "\n",
              "    .dataframe tbody tr th {\n",
              "        vertical-align: top;\n",
              "    }\n",
              "\n",
              "    .dataframe thead th {\n",
              "        text-align: right;\n",
              "    }\n",
              "</style>\n",
              "<table border=\"1\" class=\"dataframe\">\n",
              "  <thead>\n",
              "    <tr style=\"text-align: right;\">\n",
              "      <th></th>\n",
              "      <th>itching</th>\n",
              "      <th>skin_rash</th>\n",
              "      <th>nodal_skin_eruptions</th>\n",
              "      <th>dischromic_patches</th>\n",
              "      <th>continuous_sneezing</th>\n",
              "      <th>shivering</th>\n",
              "      <th>chills</th>\n",
              "      <th>watering_from_eyes</th>\n",
              "      <th>stomach_pain</th>\n",
              "      <th>acidity</th>\n",
              "      <th>...</th>\n",
              "      <th>bladder_discomfort</th>\n",
              "      <th>foul_smell_of_urine</th>\n",
              "      <th>continuous_feel_of_urine</th>\n",
              "      <th>skin_peeling</th>\n",
              "      <th>silver_like_dusting</th>\n",
              "      <th>small_dents_in_nails</th>\n",
              "      <th>inflammatory_nails</th>\n",
              "      <th>blister</th>\n",
              "      <th>red_sore_around_nose</th>\n",
              "      <th>yellow_crust_ooze</th>\n",
              "    </tr>\n",
              "  </thead>\n",
              "  <tbody>\n",
              "    <tr>\n",
              "      <th>0</th>\n",
              "      <td>NaN</td>\n",
              "      <td>NaN</td>\n",
              "      <td>NaN</td>\n",
              "      <td>NaN</td>\n",
              "      <td>NaN</td>\n",
              "      <td>NaN</td>\n",
              "      <td>NaN</td>\n",
              "      <td>NaN</td>\n",
              "      <td>NaN</td>\n",
              "      <td>NaN</td>\n",
              "      <td>...</td>\n",
              "      <td>NaN</td>\n",
              "      <td>NaN</td>\n",
              "      <td>NaN</td>\n",
              "      <td>NaN</td>\n",
              "      <td>NaN</td>\n",
              "      <td>NaN</td>\n",
              "      <td>NaN</td>\n",
              "      <td>NaN</td>\n",
              "      <td>NaN</td>\n",
              "      <td>NaN</td>\n",
              "    </tr>\n",
              "    <tr>\n",
              "      <th>1</th>\n",
              "      <td>NaN</td>\n",
              "      <td>NaN</td>\n",
              "      <td>NaN</td>\n",
              "      <td>NaN</td>\n",
              "      <td>NaN</td>\n",
              "      <td>NaN</td>\n",
              "      <td>NaN</td>\n",
              "      <td>NaN</td>\n",
              "      <td>NaN</td>\n",
              "      <td>NaN</td>\n",
              "      <td>...</td>\n",
              "      <td>NaN</td>\n",
              "      <td>NaN</td>\n",
              "      <td>NaN</td>\n",
              "      <td>NaN</td>\n",
              "      <td>NaN</td>\n",
              "      <td>NaN</td>\n",
              "      <td>NaN</td>\n",
              "      <td>NaN</td>\n",
              "      <td>NaN</td>\n",
              "      <td>NaN</td>\n",
              "    </tr>\n",
              "    <tr>\n",
              "      <th>2</th>\n",
              "      <td>NaN</td>\n",
              "      <td>NaN</td>\n",
              "      <td>NaN</td>\n",
              "      <td>NaN</td>\n",
              "      <td>NaN</td>\n",
              "      <td>NaN</td>\n",
              "      <td>NaN</td>\n",
              "      <td>NaN</td>\n",
              "      <td>NaN</td>\n",
              "      <td>NaN</td>\n",
              "      <td>...</td>\n",
              "      <td>NaN</td>\n",
              "      <td>NaN</td>\n",
              "      <td>NaN</td>\n",
              "      <td>NaN</td>\n",
              "      <td>NaN</td>\n",
              "      <td>NaN</td>\n",
              "      <td>NaN</td>\n",
              "      <td>NaN</td>\n",
              "      <td>NaN</td>\n",
              "      <td>NaN</td>\n",
              "    </tr>\n",
              "    <tr>\n",
              "      <th>3</th>\n",
              "      <td>NaN</td>\n",
              "      <td>NaN</td>\n",
              "      <td>NaN</td>\n",
              "      <td>NaN</td>\n",
              "      <td>NaN</td>\n",
              "      <td>NaN</td>\n",
              "      <td>NaN</td>\n",
              "      <td>NaN</td>\n",
              "      <td>NaN</td>\n",
              "      <td>NaN</td>\n",
              "      <td>...</td>\n",
              "      <td>NaN</td>\n",
              "      <td>NaN</td>\n",
              "      <td>NaN</td>\n",
              "      <td>NaN</td>\n",
              "      <td>NaN</td>\n",
              "      <td>NaN</td>\n",
              "      <td>NaN</td>\n",
              "      <td>NaN</td>\n",
              "      <td>NaN</td>\n",
              "      <td>NaN</td>\n",
              "    </tr>\n",
              "    <tr>\n",
              "      <th>4</th>\n",
              "      <td>NaN</td>\n",
              "      <td>NaN</td>\n",
              "      <td>NaN</td>\n",
              "      <td>NaN</td>\n",
              "      <td>NaN</td>\n",
              "      <td>NaN</td>\n",
              "      <td>NaN</td>\n",
              "      <td>NaN</td>\n",
              "      <td>NaN</td>\n",
              "      <td>NaN</td>\n",
              "      <td>...</td>\n",
              "      <td>NaN</td>\n",
              "      <td>NaN</td>\n",
              "      <td>NaN</td>\n",
              "      <td>NaN</td>\n",
              "      <td>NaN</td>\n",
              "      <td>NaN</td>\n",
              "      <td>NaN</td>\n",
              "      <td>NaN</td>\n",
              "      <td>NaN</td>\n",
              "      <td>NaN</td>\n",
              "    </tr>\n",
              "    <tr>\n",
              "      <th>...</th>\n",
              "      <td>...</td>\n",
              "      <td>...</td>\n",
              "      <td>...</td>\n",
              "      <td>...</td>\n",
              "      <td>...</td>\n",
              "      <td>...</td>\n",
              "      <td>...</td>\n",
              "      <td>...</td>\n",
              "      <td>...</td>\n",
              "      <td>...</td>\n",
              "      <td>...</td>\n",
              "      <td>...</td>\n",
              "      <td>...</td>\n",
              "      <td>...</td>\n",
              "      <td>...</td>\n",
              "      <td>...</td>\n",
              "      <td>...</td>\n",
              "      <td>...</td>\n",
              "      <td>...</td>\n",
              "      <td>...</td>\n",
              "      <td>...</td>\n",
              "    </tr>\n",
              "    <tr>\n",
              "      <th>4915</th>\n",
              "      <td>NaN</td>\n",
              "      <td>NaN</td>\n",
              "      <td>NaN</td>\n",
              "      <td>NaN</td>\n",
              "      <td>NaN</td>\n",
              "      <td>NaN</td>\n",
              "      <td>NaN</td>\n",
              "      <td>NaN</td>\n",
              "      <td>NaN</td>\n",
              "      <td>NaN</td>\n",
              "      <td>...</td>\n",
              "      <td>NaN</td>\n",
              "      <td>NaN</td>\n",
              "      <td>NaN</td>\n",
              "      <td>NaN</td>\n",
              "      <td>NaN</td>\n",
              "      <td>NaN</td>\n",
              "      <td>NaN</td>\n",
              "      <td>NaN</td>\n",
              "      <td>NaN</td>\n",
              "      <td>NaN</td>\n",
              "    </tr>\n",
              "    <tr>\n",
              "      <th>4916</th>\n",
              "      <td>NaN</td>\n",
              "      <td>NaN</td>\n",
              "      <td>NaN</td>\n",
              "      <td>NaN</td>\n",
              "      <td>NaN</td>\n",
              "      <td>NaN</td>\n",
              "      <td>NaN</td>\n",
              "      <td>NaN</td>\n",
              "      <td>NaN</td>\n",
              "      <td>NaN</td>\n",
              "      <td>...</td>\n",
              "      <td>NaN</td>\n",
              "      <td>NaN</td>\n",
              "      <td>NaN</td>\n",
              "      <td>NaN</td>\n",
              "      <td>NaN</td>\n",
              "      <td>NaN</td>\n",
              "      <td>NaN</td>\n",
              "      <td>NaN</td>\n",
              "      <td>NaN</td>\n",
              "      <td>NaN</td>\n",
              "    </tr>\n",
              "    <tr>\n",
              "      <th>4917</th>\n",
              "      <td>NaN</td>\n",
              "      <td>NaN</td>\n",
              "      <td>NaN</td>\n",
              "      <td>NaN</td>\n",
              "      <td>NaN</td>\n",
              "      <td>NaN</td>\n",
              "      <td>NaN</td>\n",
              "      <td>NaN</td>\n",
              "      <td>NaN</td>\n",
              "      <td>NaN</td>\n",
              "      <td>...</td>\n",
              "      <td>NaN</td>\n",
              "      <td>NaN</td>\n",
              "      <td>NaN</td>\n",
              "      <td>NaN</td>\n",
              "      <td>NaN</td>\n",
              "      <td>NaN</td>\n",
              "      <td>NaN</td>\n",
              "      <td>NaN</td>\n",
              "      <td>NaN</td>\n",
              "      <td>NaN</td>\n",
              "    </tr>\n",
              "    <tr>\n",
              "      <th>4918</th>\n",
              "      <td>NaN</td>\n",
              "      <td>NaN</td>\n",
              "      <td>NaN</td>\n",
              "      <td>NaN</td>\n",
              "      <td>NaN</td>\n",
              "      <td>NaN</td>\n",
              "      <td>NaN</td>\n",
              "      <td>NaN</td>\n",
              "      <td>NaN</td>\n",
              "      <td>NaN</td>\n",
              "      <td>...</td>\n",
              "      <td>NaN</td>\n",
              "      <td>NaN</td>\n",
              "      <td>NaN</td>\n",
              "      <td>NaN</td>\n",
              "      <td>NaN</td>\n",
              "      <td>NaN</td>\n",
              "      <td>NaN</td>\n",
              "      <td>NaN</td>\n",
              "      <td>NaN</td>\n",
              "      <td>NaN</td>\n",
              "    </tr>\n",
              "    <tr>\n",
              "      <th>4919</th>\n",
              "      <td>NaN</td>\n",
              "      <td>NaN</td>\n",
              "      <td>NaN</td>\n",
              "      <td>NaN</td>\n",
              "      <td>NaN</td>\n",
              "      <td>NaN</td>\n",
              "      <td>NaN</td>\n",
              "      <td>NaN</td>\n",
              "      <td>NaN</td>\n",
              "      <td>NaN</td>\n",
              "      <td>...</td>\n",
              "      <td>NaN</td>\n",
              "      <td>NaN</td>\n",
              "      <td>NaN</td>\n",
              "      <td>NaN</td>\n",
              "      <td>NaN</td>\n",
              "      <td>NaN</td>\n",
              "      <td>NaN</td>\n",
              "      <td>NaN</td>\n",
              "      <td>NaN</td>\n",
              "      <td>NaN</td>\n",
              "    </tr>\n",
              "  </tbody>\n",
              "</table>\n",
              "<p>4920 rows × 131 columns</p>\n",
              "</div>"
            ],
            "text/plain": [
              "     itching  skin_rash  nodal_skin_eruptions  dischromic_patches  \\\n",
              "0        NaN        NaN                   NaN                 NaN   \n",
              "1        NaN        NaN                   NaN                 NaN   \n",
              "2        NaN        NaN                   NaN                 NaN   \n",
              "3        NaN        NaN                   NaN                 NaN   \n",
              "4        NaN        NaN                   NaN                 NaN   \n",
              "...      ...        ...                   ...                 ...   \n",
              "4915     NaN        NaN                   NaN                 NaN   \n",
              "4916     NaN        NaN                   NaN                 NaN   \n",
              "4917     NaN        NaN                   NaN                 NaN   \n",
              "4918     NaN        NaN                   NaN                 NaN   \n",
              "4919     NaN        NaN                   NaN                 NaN   \n",
              "\n",
              "      continuous_sneezing  shivering  chills  watering_from_eyes  \\\n",
              "0                     NaN        NaN     NaN                 NaN   \n",
              "1                     NaN        NaN     NaN                 NaN   \n",
              "2                     NaN        NaN     NaN                 NaN   \n",
              "3                     NaN        NaN     NaN                 NaN   \n",
              "4                     NaN        NaN     NaN                 NaN   \n",
              "...                   ...        ...     ...                 ...   \n",
              "4915                  NaN        NaN     NaN                 NaN   \n",
              "4916                  NaN        NaN     NaN                 NaN   \n",
              "4917                  NaN        NaN     NaN                 NaN   \n",
              "4918                  NaN        NaN     NaN                 NaN   \n",
              "4919                  NaN        NaN     NaN                 NaN   \n",
              "\n",
              "      stomach_pain  acidity  ...  bladder_discomfort  foul_smell_of_urine  \\\n",
              "0              NaN      NaN  ...                 NaN                  NaN   \n",
              "1              NaN      NaN  ...                 NaN                  NaN   \n",
              "2              NaN      NaN  ...                 NaN                  NaN   \n",
              "3              NaN      NaN  ...                 NaN                  NaN   \n",
              "4              NaN      NaN  ...                 NaN                  NaN   \n",
              "...            ...      ...  ...                 ...                  ...   \n",
              "4915           NaN      NaN  ...                 NaN                  NaN   \n",
              "4916           NaN      NaN  ...                 NaN                  NaN   \n",
              "4917           NaN      NaN  ...                 NaN                  NaN   \n",
              "4918           NaN      NaN  ...                 NaN                  NaN   \n",
              "4919           NaN      NaN  ...                 NaN                  NaN   \n",
              "\n",
              "      continuous_feel_of_urine  skin_peeling  silver_like_dusting  \\\n",
              "0                          NaN           NaN                  NaN   \n",
              "1                          NaN           NaN                  NaN   \n",
              "2                          NaN           NaN                  NaN   \n",
              "3                          NaN           NaN                  NaN   \n",
              "4                          NaN           NaN                  NaN   \n",
              "...                        ...           ...                  ...   \n",
              "4915                       NaN           NaN                  NaN   \n",
              "4916                       NaN           NaN                  NaN   \n",
              "4917                       NaN           NaN                  NaN   \n",
              "4918                       NaN           NaN                  NaN   \n",
              "4919                       NaN           NaN                  NaN   \n",
              "\n",
              "      small_dents_in_nails  inflammatory_nails  blister  red_sore_around_nose  \\\n",
              "0                      NaN                 NaN      NaN                   NaN   \n",
              "1                      NaN                 NaN      NaN                   NaN   \n",
              "2                      NaN                 NaN      NaN                   NaN   \n",
              "3                      NaN                 NaN      NaN                   NaN   \n",
              "4                      NaN                 NaN      NaN                   NaN   \n",
              "...                    ...                 ...      ...                   ...   \n",
              "4915                   NaN                 NaN      NaN                   NaN   \n",
              "4916                   NaN                 NaN      NaN                   NaN   \n",
              "4917                   NaN                 NaN      NaN                   NaN   \n",
              "4918                   NaN                 NaN      NaN                   NaN   \n",
              "4919                   NaN                 NaN      NaN                   NaN   \n",
              "\n",
              "      yellow_crust_ooze  \n",
              "0                   NaN  \n",
              "1                   NaN  \n",
              "2                   NaN  \n",
              "3                   NaN  \n",
              "4                   NaN  \n",
              "...                 ...  \n",
              "4915                NaN  \n",
              "4916                NaN  \n",
              "4917                NaN  \n",
              "4918                NaN  \n",
              "4919                NaN  \n",
              "\n",
              "[4920 rows x 131 columns]"
            ]
          },
          "execution_count": 111,
          "metadata": {},
          "output_type": "execute_result"
        }
      ],
      "source": [
        "symptoms"
      ]
    },
    {
      "cell_type": "code",
      "execution_count": 112,
      "metadata": {
        "execution": {
          "iopub.execute_input": "2021-10-17T10:20:50.223781Z",
          "iopub.status.busy": "2021-10-17T10:20:50.223107Z",
          "iopub.status.idle": "2021-10-17T10:20:50.224728Z",
          "shell.execute_reply": "2021-10-17T10:20:50.225169Z",
          "shell.execute_reply.started": "2021-10-17T10:19:30.315210Z"
        },
        "id": "9ca16fd0",
        "papermill": {
          "duration": 0.027357,
          "end_time": "2021-10-17T10:20:50.225344",
          "exception": false,
          "start_time": "2021-10-17T10:20:50.197987",
          "status": "completed"
        },
        "tags": []
      },
      "outputs": [],
      "source": [
        "symptoms[\"Symptoms\"] = df[\"Symptoms\"]"
      ]
    },
    {
      "cell_type": "code",
      "execution_count": 113,
      "metadata": {
        "execution": {
          "iopub.execute_input": "2021-10-17T10:20:50.268806Z",
          "iopub.status.busy": "2021-10-17T10:20:50.268137Z",
          "iopub.status.idle": "2021-10-17T10:21:04.715624Z",
          "shell.execute_reply": "2021-10-17T10:21:04.716131Z",
          "shell.execute_reply.started": "2021-10-17T10:19:30.324653Z"
        },
        "id": "e3cb22ae",
        "papermill": {
          "duration": 14.470739,
          "end_time": "2021-10-17T10:21:04.716334",
          "exception": false,
          "start_time": "2021-10-17T10:20:50.245595",
          "status": "completed"
        },
        "tags": []
      },
      "outputs": [],
      "source": [
        "for i in symps:\n",
        "    symptoms[i] = symptoms.apply(lambda x:1 if i in x.Symptoms else 0, axis=1)"
      ]
    },
    {
      "cell_type": "code",
      "execution_count": 114,
      "metadata": {
        "execution": {
          "iopub.execute_input": "2021-10-17T10:21:04.761064Z",
          "iopub.status.busy": "2021-10-17T10:21:04.760398Z",
          "iopub.status.idle": "2021-10-17T10:21:04.772025Z",
          "shell.execute_reply": "2021-10-17T10:21:04.771479Z",
          "shell.execute_reply.started": "2021-10-17T10:19:45.035799Z"
        },
        "id": "d674b7cc",
        "papermill": {
          "duration": 0.035435,
          "end_time": "2021-10-17T10:21:04.772170",
          "exception": false,
          "start_time": "2021-10-17T10:21:04.736735",
          "status": "completed"
        },
        "tags": []
      },
      "outputs": [],
      "source": [
        "symptoms[\"Disease\"] = df[\"Disease\"]\n",
        "symptoms = symptoms.drop(\"Symptoms\",axis=1)"
      ]
    },
    {
      "cell_type": "code",
      "execution_count": 115,
      "metadata": {
        "execution": {
          "iopub.execute_input": "2021-10-17T10:21:04.831118Z",
          "iopub.status.busy": "2021-10-17T10:21:04.830423Z",
          "iopub.status.idle": "2021-10-17T10:21:04.833181Z",
          "shell.execute_reply": "2021-10-17T10:21:04.833686Z",
          "shell.execute_reply.started": "2021-10-17T10:19:45.051239Z"
        },
        "id": "946d9166",
        "outputId": "0e963958-1e05-4329-c543-7f8cfd6e2061",
        "papermill": {
          "duration": 0.041388,
          "end_time": "2021-10-17T10:21:04.833852",
          "exception": false,
          "start_time": "2021-10-17T10:21:04.792464",
          "status": "completed"
        },
        "tags": []
      },
      "outputs": [
        {
          "data": {
            "text/html": [
              "<div>\n",
              "<style scoped>\n",
              "    .dataframe tbody tr th:only-of-type {\n",
              "        vertical-align: middle;\n",
              "    }\n",
              "\n",
              "    .dataframe tbody tr th {\n",
              "        vertical-align: top;\n",
              "    }\n",
              "\n",
              "    .dataframe thead th {\n",
              "        text-align: right;\n",
              "    }\n",
              "</style>\n",
              "<table border=\"1\" class=\"dataframe\">\n",
              "  <thead>\n",
              "    <tr style=\"text-align: right;\">\n",
              "      <th></th>\n",
              "      <th>itching</th>\n",
              "      <th>skin_rash</th>\n",
              "      <th>nodal_skin_eruptions</th>\n",
              "      <th>dischromic_patches</th>\n",
              "      <th>continuous_sneezing</th>\n",
              "      <th>shivering</th>\n",
              "      <th>chills</th>\n",
              "      <th>watering_from_eyes</th>\n",
              "      <th>stomach_pain</th>\n",
              "      <th>acidity</th>\n",
              "      <th>...</th>\n",
              "      <th>foul_smell_of_urine</th>\n",
              "      <th>continuous_feel_of_urine</th>\n",
              "      <th>skin_peeling</th>\n",
              "      <th>silver_like_dusting</th>\n",
              "      <th>small_dents_in_nails</th>\n",
              "      <th>inflammatory_nails</th>\n",
              "      <th>blister</th>\n",
              "      <th>red_sore_around_nose</th>\n",
              "      <th>yellow_crust_ooze</th>\n",
              "      <th>Disease</th>\n",
              "    </tr>\n",
              "  </thead>\n",
              "  <tbody>\n",
              "    <tr>\n",
              "      <th>0</th>\n",
              "      <td>1</td>\n",
              "      <td>1</td>\n",
              "      <td>1</td>\n",
              "      <td>1</td>\n",
              "      <td>0</td>\n",
              "      <td>0</td>\n",
              "      <td>0</td>\n",
              "      <td>0</td>\n",
              "      <td>0</td>\n",
              "      <td>0</td>\n",
              "      <td>...</td>\n",
              "      <td>0</td>\n",
              "      <td>0</td>\n",
              "      <td>0</td>\n",
              "      <td>0</td>\n",
              "      <td>0</td>\n",
              "      <td>0</td>\n",
              "      <td>0</td>\n",
              "      <td>0</td>\n",
              "      <td>0</td>\n",
              "      <td>Fungal infection</td>\n",
              "    </tr>\n",
              "    <tr>\n",
              "      <th>1</th>\n",
              "      <td>0</td>\n",
              "      <td>1</td>\n",
              "      <td>1</td>\n",
              "      <td>1</td>\n",
              "      <td>0</td>\n",
              "      <td>0</td>\n",
              "      <td>0</td>\n",
              "      <td>0</td>\n",
              "      <td>0</td>\n",
              "      <td>0</td>\n",
              "      <td>...</td>\n",
              "      <td>0</td>\n",
              "      <td>0</td>\n",
              "      <td>0</td>\n",
              "      <td>0</td>\n",
              "      <td>0</td>\n",
              "      <td>0</td>\n",
              "      <td>0</td>\n",
              "      <td>0</td>\n",
              "      <td>0</td>\n",
              "      <td>Fungal infection</td>\n",
              "    </tr>\n",
              "    <tr>\n",
              "      <th>2</th>\n",
              "      <td>1</td>\n",
              "      <td>0</td>\n",
              "      <td>1</td>\n",
              "      <td>1</td>\n",
              "      <td>0</td>\n",
              "      <td>0</td>\n",
              "      <td>0</td>\n",
              "      <td>0</td>\n",
              "      <td>0</td>\n",
              "      <td>0</td>\n",
              "      <td>...</td>\n",
              "      <td>0</td>\n",
              "      <td>0</td>\n",
              "      <td>0</td>\n",
              "      <td>0</td>\n",
              "      <td>0</td>\n",
              "      <td>0</td>\n",
              "      <td>0</td>\n",
              "      <td>0</td>\n",
              "      <td>0</td>\n",
              "      <td>Fungal infection</td>\n",
              "    </tr>\n",
              "    <tr>\n",
              "      <th>3</th>\n",
              "      <td>1</td>\n",
              "      <td>1</td>\n",
              "      <td>0</td>\n",
              "      <td>1</td>\n",
              "      <td>0</td>\n",
              "      <td>0</td>\n",
              "      <td>0</td>\n",
              "      <td>0</td>\n",
              "      <td>0</td>\n",
              "      <td>0</td>\n",
              "      <td>...</td>\n",
              "      <td>0</td>\n",
              "      <td>0</td>\n",
              "      <td>0</td>\n",
              "      <td>0</td>\n",
              "      <td>0</td>\n",
              "      <td>0</td>\n",
              "      <td>0</td>\n",
              "      <td>0</td>\n",
              "      <td>0</td>\n",
              "      <td>Fungal infection</td>\n",
              "    </tr>\n",
              "    <tr>\n",
              "      <th>4</th>\n",
              "      <td>1</td>\n",
              "      <td>1</td>\n",
              "      <td>1</td>\n",
              "      <td>0</td>\n",
              "      <td>0</td>\n",
              "      <td>0</td>\n",
              "      <td>0</td>\n",
              "      <td>0</td>\n",
              "      <td>0</td>\n",
              "      <td>0</td>\n",
              "      <td>...</td>\n",
              "      <td>0</td>\n",
              "      <td>0</td>\n",
              "      <td>0</td>\n",
              "      <td>0</td>\n",
              "      <td>0</td>\n",
              "      <td>0</td>\n",
              "      <td>0</td>\n",
              "      <td>0</td>\n",
              "      <td>0</td>\n",
              "      <td>Fungal infection</td>\n",
              "    </tr>\n",
              "  </tbody>\n",
              "</table>\n",
              "<p>5 rows × 132 columns</p>\n",
              "</div>"
            ],
            "text/plain": [
              "   itching   skin_rash   nodal_skin_eruptions   dischromic_patches  \\\n",
              "0        1           1                      1                    1   \n",
              "1        0           1                      1                    1   \n",
              "2        1           0                      1                    1   \n",
              "3        1           1                      0                    1   \n",
              "4        1           1                      1                    0   \n",
              "\n",
              "    continuous_sneezing   shivering   chills   watering_from_eyes  \\\n",
              "0                     0           0        0                    0   \n",
              "1                     0           0        0                    0   \n",
              "2                     0           0        0                    0   \n",
              "3                     0           0        0                    0   \n",
              "4                     0           0        0                    0   \n",
              "\n",
              "    stomach_pain   acidity  ...   foul_smell_of_urine  \\\n",
              "0              0         0  ...                     0   \n",
              "1              0         0  ...                     0   \n",
              "2              0         0  ...                     0   \n",
              "3              0         0  ...                     0   \n",
              "4              0         0  ...                     0   \n",
              "\n",
              "    continuous_feel_of_urine   skin_peeling   silver_like_dusting  \\\n",
              "0                          0              0                     0   \n",
              "1                          0              0                     0   \n",
              "2                          0              0                     0   \n",
              "3                          0              0                     0   \n",
              "4                          0              0                     0   \n",
              "\n",
              "    small_dents_in_nails   inflammatory_nails   blister  \\\n",
              "0                      0                    0         0   \n",
              "1                      0                    0         0   \n",
              "2                      0                    0         0   \n",
              "3                      0                    0         0   \n",
              "4                      0                    0         0   \n",
              "\n",
              "    red_sore_around_nose   yellow_crust_ooze           Disease  \n",
              "0                      0                   0  Fungal infection  \n",
              "1                      0                   0  Fungal infection  \n",
              "2                      0                   0  Fungal infection  \n",
              "3                      0                   0  Fungal infection  \n",
              "4                      0                   0  Fungal infection  \n",
              "\n",
              "[5 rows x 132 columns]"
            ]
          },
          "execution_count": 115,
          "metadata": {},
          "output_type": "execute_result"
        }
      ],
      "source": [
        "symptoms.head()"
      ]
    },
    {
      "cell_type": "code",
      "execution_count": 116,
      "metadata": {
        "id": "Kl61AVqh8yR3"
      },
      "outputs": [],
      "source": [
        "# Encoding the target value into numerical\n",
        "# value using LabelEncoder\n",
        "encoder = LabelEncoder()\n",
        "symptoms[\"Disease\"] = encoder.fit_transform(symptoms[\"Disease\"])\n"
      ]
    },
    {
      "cell_type": "code",
      "execution_count": 117,
      "metadata": {
        "id": "kQdNPYhq87Qo"
      },
      "outputs": [
        {
          "name": "stdout",
          "output_type": "stream",
          "text": [
            "Train: (3936, 131), (3936,)\n",
            "Test: (984, 131), (984,)\n"
          ]
        }
      ],
      "source": [
        "X = symptoms.iloc[:,:-1]\n",
        "y = symptoms.iloc[:, -1]\n",
        "X_train, X_test, y_train, y_test =train_test_split(\n",
        "  X, y, test_size = 0.2, random_state = 24)\n",
        " \n",
        "print(f\"Train: {X_train.shape}, {y_train.shape}\")\n",
        "print(f\"Test: {X_test.shape}, {y_test.shape}\")"
      ]
    },
    {
      "cell_type": "code",
      "execution_count": 118,
      "metadata": {
        "id": "oiD5YSkC9EvD"
      },
      "outputs": [
        {
          "name": "stdout",
          "output_type": "stream",
          "text": [
            "============================================================\n",
            "SVC\n",
            "Scores: [1. 1. 1. 1. 1. 1. 1. 1. 1. 1.]\n",
            "Mean Score: 1.0\n",
            "============================================================\n",
            "Gaussian NB\n",
            "Scores: [1. 1. 1. 1. 1. 1. 1. 1. 1. 1.]\n",
            "Mean Score: 1.0\n",
            "============================================================\n",
            "Random Forest\n",
            "Scores: [1. 1. 1. 1. 1. 1. 1. 1. 1. 1.]\n",
            "Mean Score: 1.0\n"
          ]
        }
      ],
      "source": [
        "# Defining scoring metric for k-fold cross validation\n",
        "def cv_scoring(estimator, X, y):\n",
        "    return accuracy_score(y, estimator.predict(X))\n",
        " \n",
        "# Initializing Models\n",
        "models = {\n",
        "    \"SVC\":SVC(),\n",
        "    \"Gaussian NB\":GaussianNB(),\n",
        "    \"Random Forest\":RandomForestClassifier(random_state=18)\n",
        "}\n",
        " \n",
        "# Producing cross validation score for the models\n",
        "for model_name in models:\n",
        "    model = models[model_name]\n",
        "    scores = cross_val_score(model, X, y, cv = 10, n_jobs = -1,\n",
        "            scoring = cv_scoring)\n",
        "    print(\"==\"*30)\n",
        "    print(model_name)\n",
        "    print(f\"Scores: {scores}\")\n",
        "    print(f\"Mean Score: {np.mean(scores)}\")"
      ]
    },
    {
      "cell_type": "code",
      "execution_count": 119,
      "metadata": {
        "id": "mevyFmZ99Rlq"
      },
      "outputs": [
        {
          "name": "stdout",
          "output_type": "stream",
          "text": [
            "Accuracy on train data by SVM Classifier: 100.0\n",
            "Accuracy on test data by SVM Classifier: 100.0\n"
          ]
        },
        {
          "data": {
            "image/png": "[encoded data removed]",
            "text/plain": [
              "<Figure size 864x576 with 2 Axes>"
            ]
          },
          "metadata": {
            "needs_background": "light"
          },
          "output_type": "display_data"
        },
        {
          "name": "stdout",
          "output_type": "stream",
          "text": [
            "Accuracy on train data by Naive Bayes Classifier: 100.0\n",
            "Accuracy on test data by Naive Bayes Classifier: 100.0\n"
          ]
        },
        {
          "data": {
            "image/png": "[encoded data removed]",
            "text/plain": [
              "<Figure size 864x576 with 2 Axes>"
            ]
          },
          "metadata": {
            "needs_background": "light"
          },
          "output_type": "display_data"
        },
        {
          "name": "stdout",
          "output_type": "stream",
          "text": [
            "Accuracy on train data by Random Forest Classifier: 100.0\n",
            "Accuracy on test data by Random Forest Classifier: 100.0\n"
          ]
        },
        {
          "data": {
            "image/png": "[encoded data removed]",
            "text/plain": [
              "<Figure size 864x576 with 2 Axes>"
            ]
          },
          "metadata": {
            "needs_background": "light"
          },
          "output_type": "display_data"
        }
      ],
      "source": [
        "# Training and testing SVM Classifier\n",
        "svm_model = SVC()\n",
        "svm_model.fit(X_train, y_train)\n",
        "preds = svm_model.predict(X_test)\n",
        " \n",
        "print(f\"Accuracy on train data by SVM Classifier\\\n",
        ": {accuracy_score(y_train, svm_model.predict(X_train))*100}\")\n",
        " \n",
        "print(f\"Accuracy on test data by SVM Classifier\\\n",
        ": {accuracy_score(y_test, preds)*100}\")\n",
        "cf_matrix = confusion_matrix(y_test, preds)\n",
        "plt.figure(figsize=(12,8))\n",
        "sns.heatmap(cf_matrix, annot=True)\n",
        "plt.title(\"Confusion Matrix for SVM Classifier on Test Data\")\n",
        "plt.show()\n",
        " \n",
        "# Training and testing Naive Bayes Classifier\n",
        "nb_model = GaussianNB()\n",
        "nb_model.fit(X_train, y_train)\n",
        "preds = nb_model.predict(X_test)\n",
        "print(f\"Accuracy on train data by Naive Bayes Classifier\\\n",
        ": {accuracy_score(y_train, nb_model.predict(X_train))*100}\")\n",
        " \n",
        "print(f\"Accuracy on test data by Naive Bayes Classifier\\\n",
        ": {accuracy_score(y_test, preds)*100}\")\n",
        "cf_matrix = confusion_matrix(y_test, preds)\n",
        "plt.figure(figsize=(12,8))\n",
        "sns.heatmap(cf_matrix, annot=True)\n",
        "plt.title(\"Confusion Matrix for Naive Bayes Classifier on Test Data\")\n",
        "plt.show()\n",
        " \n",
        "# Training and testing Random Forest Classifier\n",
        "rf_model = RandomForestClassifier(random_state=18)\n",
        "rf_model.fit(X_train, y_train)\n",
        "preds = rf_model.predict(X_test)\n",
        "print(f\"Accuracy on train data by Random Forest Classifier\\\n",
        ": {accuracy_score(y_train, rf_model.predict(X_train))*100}\")\n",
        " \n",
        "print(f\"Accuracy on test data by Random Forest Classifier\\\n",
        ": {accuracy_score(y_test, preds)*100}\")\n",
        " \n",
        "cf_matrix = confusion_matrix(y_test, preds)\n",
        "plt.figure(figsize=(12,8))\n",
        "sns.heatmap(cf_matrix, annot=True)\n",
        "plt.title(\"Confusion Matrix for Random Forest Classifier on Test Data\")\n",
        "plt.show()"
      ]
    },
    {
      "cell_type": "code",
      "execution_count": 120,
      "metadata": {
        "id": "JXGYTWQP9iow"
      },
      "outputs": [
        {
          "name": "stdout",
          "output_type": "stream",
          "text": [
            "Accuracy on Test dataset by the combined model: 100.0\n"
          ]
        },
        {
          "data": {
            "image/png": "[encoded data removed]",
            "text/plain": [
              "<Figure size 864x576 with 2 Axes>"
            ]
          },
          "metadata": {
            "needs_background": "light"
          },
          "output_type": "display_data"
        }
      ],
      "source": [
        "# Training the models on whole data\n",
        "final_svm_model = SVC()\n",
        "final_nb_model = GaussianNB()\n",
        "final_rf_model = RandomForestClassifier(random_state=18)\n",
        "final_svm_model.fit(X, y)\n",
        "final_nb_model.fit(X, y)\n",
        "final_rf_model.fit(X, y)\n",
        "\n",
        " \n",
        "# Reading the test data\n",
        " \n",
        "test_X = X_test\n",
        "test_Y = y_test\n",
        " \n",
        "# Making prediction by take mode of predictions\n",
        "# made by all the classifiers\n",
        "svm_preds = final_svm_model.predict(test_X)\n",
        "nb_preds = final_nb_model.predict(test_X)\n",
        "rf_preds = final_rf_model.predict(test_X)\n",
        " \n",
        "final_preds = [mode([i,j,k])[0][0] for i,j,\n",
        "               k in zip(svm_preds, nb_preds, rf_preds)]\n",
        " \n",
        "print(f\"Accuracy on Test dataset by the combined model\\\n",
        ": {accuracy_score(test_Y, final_preds)*100}\")\n",
        " \n",
        "cf_matrix = confusion_matrix(test_Y, final_preds)\n",
        "plt.figure(figsize=(12,8))\n",
        " \n",
        "sns.heatmap(cf_matrix, annot = True)\n",
        "plt.title(\"Confusion Matrix for Combined Model on Test Dataset\")\n",
        "plt.show()"
      ]
    },
    {
      "cell_type": "code",
      "execution_count": 121,
      "metadata": {
        "id": "xZZwnRi6CkOE"
      },
      "outputs": [],
      "source": [
        "# !pip install statistics"
      ]
    },
    {
      "cell_type": "code",
      "execution_count": 157,
      "metadata": {
        "id": "QJjUBNRw91yQ"
      },
      "outputs": [
        {
          "name": "stdout",
          "output_type": "stream",
          "text": [
            "{'itching': 0, 'skin_rash': 1, 'nodal_skin_eruptions': 2, 'dischromic_patches': 3, 'continuous_sneezing': 4, 'shivering': 5, 'chills': 6, 'watering_from_eyes': 7, 'stomach_pain': 8, 'acidity': 9, 'ulcers_on_tongue': 10, 'vomiting': 11, 'cough': 12, 'chest_pain': 13, 'yellowish_skin': 14, 'nausea': 15, 'loss_of_appetite': 16, 'abdominal_pain': 17, 'yellowing_of_eyes': 18, 'burning_micturition': 19, 'spotting_ urination': 20, 'passage_of_gases': 21, 'internal_itching': 22, 'indigestion': 23, 'muscle_wasting': 24, 'patches_in_throat': 25, 'high_fever': 26, 'extra_marital_contacts': 27, 'fatigue': 28, 'weight_loss': 29, 'restlessness': 30, 'lethargy': 31, 'irregular_sugar_level': 32, 'blurred_and_distorted_vision': 33, 'obesity': 34, 'excessive_hunger': 35, 'increased_appetite': 36, 'polyuria': 37, 'sunken_eyes': 38, 'dehydration': 39, 'diarrhoea': 40, 'breathlessness': 41, 'family_history': 42, 'mucoid_sputum': 43, 'headache': 44, 'dizziness': 45, 'loss_of_balance': 46, 'lack_of_concentration': 47, 'stiff_neck': 48, 'depression': 49, 'irritability': 50, 'visual_disturbances': 51, 'back_pain': 52, 'weakness_in_limbs': 53, 'neck_pain': 54, 'weakness_of_one_body_side': 55, 'altered_sensorium': 56, 'dark_urine': 57, 'sweating': 58, 'muscle_pain': 59, 'mild_fever': 60, 'swelled_lymph_nodes': 61, 'malaise': 62, 'red_spots_over_body': 63, 'joint_pain': 64, 'pain_behind_the_eyes': 65, 'constipation': 66, 'toxic_look_(typhos)': 67, 'belly_pain': 68, 'yellow_urine': 69, 'receiving_blood_transfusion': 70, 'receiving_unsterile_injections': 71, 'coma': 72, 'stomach_bleeding': 73, 'acute_liver_failure': 74, 'swelling_of_stomach': 75, 'distention_of_abdomen': 76, 'history_of_alcohol_consumption': 77, 'fluid_overload': 78, 'phlegm': 79, 'blood_in_sputum': 80, 'throat_irritation': 81, 'redness_of_eyes': 82, 'sinus_pressure': 83, 'runny_nose': 84, 'congestion': 85, 'loss_of_smell': 86, 'fast_heart_rate': 87, 'rusty_sputum': 88, 'pain_during_bowel_movements': 89, 'pain_in_anal_region': 90, 'bloody_stool': 91, 'irritation_in_anus': 92, 'cramps': 93, 'bruising': 94, 'swollen_legs': 95, 'swollen_blood_vessels': 96, 'prominent_veins_on_calf': 97, 'weight_gain': 98, 'cold_hands_and_feets': 99, 'mood_swings': 100, 'puffy_face_and_eyes': 101, 'enlarged_thyroid': 102, 'brittle_nails': 103, 'swollen_extremeties': 104, 'abnormal_menstruation': 105, 'muscle_weakness': 106, 'anxiety': 107, 'slurred_speech': 108, 'palpitations': 109, 'drying_and_tingling_lips': 110, 'knee_pain': 111, 'hip_joint_pain': 112, 'swelling_joints': 113, 'painful_walking': 114, 'movement_stiffness': 115, 'spinning_movements': 116, 'unsteadiness': 117, 'pus_filled_pimples': 118, 'blackheads': 119, 'scurring': 120, 'bladder_discomfort': 121, 'foul_smell_of_urine': 122, 'continuous_feel_of_urine': 123, 'skin_peeling': 124, 'silver_like_dusting': 125, 'small_dents_in_nails': 126, 'inflammatory_nails': 127, 'blister': 128, 'red_sore_around_nose': 129, 'yellow_crust_ooze': 130}\n",
            "[[0 0 0 0 0 0 0 0 0 0 0 0 0 0 1 0 1 0 1 0 0 0 0 0 0 0 0 0 0 0 0 1 0 0 0 0\n",
            "  0 0 0 0 0 0 0 0 0 0 0 0 0 0 0 0 0 0 0 0 0 1 0 0 0 0 1 0 0 0 0 0 0 0 0 0\n",
            "  0 0 0 0 0 0 0 0 0 0 0 0 0 0 0 0 0 0 0 0 0 0 0 0 0 0 0 0 0 0 0 0 0 0 0 0\n",
            "  0 0 0 0 0 0 0 0 0 0 0 0 0 0 0 0 0 0 0 0 0 0 0]]\n",
            "{'rf_model_prediction': 'Hepatitis D', 'naive_bayes_prediction': 'Hepatitis B', 'svm_model_prediction': 'Hepatitis B', 'final_prediction': 'Hepatitis B'}\n"
          ]
        }
      ],
      "source": [
        "import warnings\n",
        "\n",
        "warnings.filterwarnings('ignore')\n",
        "\n",
        "symptoms = X.columns.values\n",
        "\n",
        "# print(symptoms)\n",
        " \n",
        "# Creating a symptom index dictionary to encode the\n",
        "# input symptoms into numerical form\n",
        "symptom_index = {}\n",
        "for index, value in enumerate(symptoms):\n",
        "    symptom = value.strip()\n",
        "    symptom_index[symptom] = index\n",
        "\n",
        "print(symptom_index)\n",
        "\n",
        "data_dict = {\n",
        "    \"symptom_index\":symptom_index,\n",
        "    \"predictions_classes\":encoder.classes_\n",
        "}\n",
        " \n",
        "import pickle\n",
        "with open('data_dict.pkl', 'wb') as f:\n",
        "    pickle.dump(data_dict, f)\n",
        "\n",
        "\n",
        "# print(data_dict)\n",
        "\n",
        "# Defining the Function\n",
        "# Input: string containing symptoms separated by commmas\n",
        "# Output: Generated predictions by models\n",
        "final_prediction = None\n",
        "def predictDisease(symptoms):\n",
        "    symptoms = symptoms.split(\",\")\n",
        "     \n",
        "    # creating input data for the models\n",
        "    input_data = [0] * len(data_dict[\"symptom_index\"])\n",
        "    for symptom in symptoms:\n",
        "        index = data_dict[\"symptom_index\"][symptom]\n",
        "        input_data[index] = 1\n",
        "         \n",
        "    # reshaping the input data and converting it\n",
        "    # into suitable format for model predictions\n",
        "    input_data = np.array(input_data).reshape(1,-1)\n",
        "    print(input_data)\n",
        "     \n",
        "    # generating individual outputs\n",
        "    rf_prediction = data_dict[\"predictions_classes\"][final_rf_model.predict(input_data)[0]]\n",
        "    nb_prediction = data_dict[\"predictions_classes\"][final_nb_model.predict(input_data)[0]]\n",
        "    svm_prediction = data_dict[\"predictions_classes\"][final_svm_model.predict(input_data)[0]]\n",
        "     \n",
        "    # making final prediction by taking mode of all predictions\n",
        "    final_prediction = mode([rf_prediction, nb_prediction, svm_prediction])\n",
        "    predictions = {\n",
        "        \"rf_model_prediction\": rf_prediction,\n",
        "        \"naive_bayes_prediction\": nb_prediction,\n",
        "        \"svm_model_prediction\": nb_prediction,\n",
        "        \"final_prediction\":final_prediction[0][0]\n",
        "    }\n",
        "    return predictions\n",
        " \n",
        "# Testing the function\n",
        "# print(predictDisease(\"skin_rash,nodal_skin_eruptions,dischromic_patches\"))\n",
        "print(predictDisease(\"yellowing_of_eyes,lethargy,loss_of_appetite,malaise,dark_urine,yellowish_skin\"))\n",
        "# print(predictDisease(\"Vomiting,Breathlessness,Chest Pain,Sweating\"))\n",
        "# print(predictDisease(\"Itching,Vomiting,Shivering\"))\n"
      ]
    },
    {
      "cell_type": "code",
      "execution_count": 132,
      "metadata": {
        "id": "Zvz6gG0HW5ui"
      },
      "outputs": [
        {
          "data": {
            "text/plain": [
              "['svm_trained_model.pkl']"
            ]
          },
          "execution_count": 132,
          "metadata": {},
          "output_type": "execute_result"
        }
      ],
      "source": [
        "import joblib\n",
        "joblib.dump(final_svm_model, 'svm_trained_model.pkl')\n",
        "# svm = joblib.load('svm_trained_model.pkl')\n",
        "# svm.predict(test_X)"
      ]
    },
    {
      "cell_type": "code",
      "execution_count": 133,
      "metadata": {
        "id": "E-FqxaLIaE_s"
      },
      "outputs": [
        {
          "data": {
            "text/plain": [
              "['nb_trained_model.pkl']"
            ]
          },
          "execution_count": 133,
          "metadata": {},
          "output_type": "execute_result"
        }
      ],
      "source": [
        "import joblib\n",
        "joblib.dump(final_nb_model, 'nb_trained_model.pkl')\n",
        "# nb = joblib.load('nb_trained_model.pkl')\n",
        "\n",
        "# nb.predict(test_X)"
      ]
    },
    {
      "cell_type": "code",
      "execution_count": 134,
      "metadata": {
        "id": "3uylEejnaFcy"
      },
      "outputs": [
        {
          "data": {
            "text/plain": [
              "['rf_trained_model.pkl']"
            ]
          },
          "execution_count": 134,
          "metadata": {},
          "output_type": "execute_result"
        }
      ],
      "source": [
        "import joblib\n",
        "joblib.dump(final_rf_model, 'rf_trained_model.pkl')\n",
        "# rf = joblib.load('rf_trained_model.pkl')\n",
        "# rf.predict(test_X)"
      ]
    },
    {
      "cell_type": "code",
      "execution_count": null,
      "metadata": {
        "id": "Dc5CoKU-mG8o"
      },
      "outputs": [],
      "source": [
        "# rf = joblib.load('trained_model.pkl')\n",
        "# rf.predict(test_X)"
      ]
    },
    {
      "cell_type": "code",
      "execution_count": 153,
      "metadata": {
        "id": "OMAhuQqx2XXB"
      },
      "outputs": [
        {
          "name": "stdout",
          "output_type": "stream",
          "text": [
            "None\n"
          ]
        },
        {
          "data": {
            "text/plain": [
              "['trained_model.pkl']"
            ]
          },
          "execution_count": 153,
          "metadata": {},
          "output_type": "execute_result"
        }
      ],
      "source": [
        "import joblib\n",
        "print(final_prediction)\n",
        "joblib.dump(final_prediction, 'trained_model.pkl')\n"
      ]
    },
    {
      "cell_type": "code",
      "execution_count": 148,
      "metadata": {
        "id": "ZiTVRSclr919"
      },
      "outputs": [],
      "source": [
        "trained_model = joblib.load('trained_model.pkl')\n"
      ]
    },
    {
      "cell_type": "code",
      "execution_count": 150,
      "metadata": {},
      "outputs": [
        {
          "name": "stdout",
          "output_type": "stream",
          "text": [
            "None\n"
          ]
        }
      ],
      "source": [
        "# trained_model.predict(\"yellowing_of_eyes,lethargy,loss_of_appetite,malaise,dark_urine,yellowish_skin\")\n",
        "print(trained_model)"
      ]
    },
    {
      "cell_type": "code",
      "execution_count": 136,
      "metadata": {},
      "outputs": [
        {
          "name": "stdout",
          "output_type": "stream",
          "text": [
            "[[0 0 0 0 0 0 0 0 0 0 0 0 0 0 1 0 1 0 1 0 0 0 0 0 0 0 0 0 0 0 0 1 0 0 0 0\n",
            "  0 0 0 0 0 0 0 0 0 0 0 0 0 0 0 0 0 0 0 0 0 1 0 0 0 0 1 0 0 0 0 0 0 0 0 0\n",
            "  0 0 0 0 0 0 0 0 0 0 0 0 0 0 0 0 0 0 0 0 0 0 0 0 0 0 0 0 0 0 0 0 0 0 0 0\n",
            "  0 0 0 0 0 0 0 0 0 0 0 0 0 0 0 0 0 0 0 0 0 0 0]]\n"
          ]
        },
        {
          "data": {
            "text/plain": [
              "{'rf_model_prediction': 'Hepatitis D',\n",
              " 'naive_bayes_prediction': 'Hepatitis B',\n",
              " 'svm_model_prediction': 'Hepatitis B',\n",
              " 'final_prediction': 'Hepatitis B'}"
            ]
          },
          "execution_count": 136,
          "metadata": {},
          "output_type": "execute_result"
        }
      ],
      "source": [
        "# rf = joblib.load('rf_trained_model.pkl')\n",
        "# rf.predict()\n",
        "predictDisease(\"yellowing_of_eyes,lethargy,loss_of_appetite,malaise,dark_urine,yellowish_skin\")"
      ]
    }
  ],
  "metadata": {
    "colab": {
      "provenance": []
    },
    "kernelspec": {
      "display_name": "Python 3",
      "name": "python3"
    },
    "language_info": {
      "codemirror_mode": {
        "name": "ipython",
        "version": 3
      },
      "file_extension": ".py",
      "mimetype": "text/x-python",
      "name": "python",
      "nbconvert_exporter": "python",
      "pygments_lexer": "ipython3",
      "version": "3.9.2"
    }
  },
  "nbformat": 4,
  "nbformat_minor": 0
}
